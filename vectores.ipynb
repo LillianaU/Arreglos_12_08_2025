{
  "nbformat": 4,
  "nbformat_minor": 0,
  "metadata": {
    "colab": {
      "provenance": [],
      "authorship_tag": "ABX9TyM61fZiieYw3BdXtxHT8y0W",
      "include_colab_link": true
    },
    "kernelspec": {
      "name": "python3",
      "display_name": "Python 3"
    },
    "language_info": {
      "name": "python"
    }
  },
  "cells": [
    {
      "cell_type": "markdown",
      "metadata": {
        "id": "view-in-github",
        "colab_type": "text"
      },
      "source": [
        "<a href=\"https://colab.research.google.com/github/LillianaU/Arreglos_12_08_2025/blob/main/vectores.ipynb\" target=\"_parent\"><img src=\"https://colab.research.google.com/assets/colab-badge.svg\" alt=\"Open In Colab\"/></a>"
      ]
    },
    {
      "cell_type": "markdown",
      "source": [
        "los vectores son reserva de memoria para almacenar  informacion, solo puede ser de un tuipo, si es numerico , es numerico, si es texto , debe continuar siendo texto , esto aplica para las matrices.\n",
        "Los arreglos son identificadores estatifos, esto significa que es otra forma de definir , variables y constantes."
      ],
      "metadata": {
        "id": "p8IeAriUipa0"
      }
    },
    {
      "cell_type": "code",
      "source": [
        "import numpy as np # np es un alias para recortar el nombre de numpy\n",
        "vector = np.array([1, 2, 3, 4, 5]) # Creamos un vector de numpy\n",
        "print(vector) # Imprimimos el vector\n",
        "# quiero imprimir el tercer elemento del vector\n",
        "print(vector[2]) # Imprimimos el tercer elemento del vector (índice 2)\n",
        "\"\"\" los vectores no son como las listas, no tienen un método append() para agregar elementos\n",
        "y no tienen un método pop() para eliminar elementos, pero sí tienen un método reshape() para cambiar su forma , adicionalmente despues de creado no se puede cambiar el tamaño del vector \"\"\"\n",
        "vector1 =np.zeros(5) # Creamos un vector de ceros de tamaño 5\n",
        "print(vector1) # Imprimimos el vector de ceros\n",
        "vector2 = np.ones(5) # Creamos un vector de unos de tamaño 5\n",
        "print(vector2) # Imprimimos el vector de unos\n",
        "vector3 = np.arange(1,10) # Creamos un vector derango de 1 al 10\n",
        "print(\"rango\",vector3) # Imprimimos el vector de números rango\n",
        "vector4 = np.linspace(1, 10, 5) # Creamos un vector de 5 números entre 1 y 10\n",
        "print(\"linspace\",vector4) # Imprimimos el vector de números linspace\n",
        "vector5 = np.random.rand(10) # Creamos un vector de 5 números aleatorios entre 0 y 10\n",
        "print(\"random\",vector5) # Imprimimos el vector de números aleatorios\n",
        "vector6= np.random.randint(1,10,10) # Creamos un vector de 5 números aleatorios entre 0 y 10\n",
        "print(\"randint\",vector6) # Imprimimos el vector de números aleatorios\n",
        "# Creamos un vector de 5 números aleatorios entre 0 y 10"
      ],
      "metadata": {
        "colab": {
          "base_uri": "https://localhost:8080/"
        },
        "id": "QS8JFyN8jLdI",
        "outputId": "8ea51433-f110-4eb9-aca4-cb8a1b95a152"
      },
      "execution_count": 1,
      "outputs": [
        {
          "output_type": "stream",
          "name": "stdout",
          "text": [
            "[1 2 3 4 5]\n",
            "3\n",
            "[0. 0. 0. 0. 0.]\n",
            "[1. 1. 1. 1. 1.]\n",
            "rango [1 2 3 4 5 6 7 8 9]\n",
            "linspace [ 1.    3.25  5.5   7.75 10.  ]\n",
            "random [0.49627817 0.04522444 0.49784955 0.96471387 0.61513495 0.02127387\n",
            " 0.6788536  0.80396711 0.54776155 0.72968377]\n",
            "randint [8 6 8 7 4 6 4 4 8 6]\n"
          ]
        }
      ]
    }
  ]
}